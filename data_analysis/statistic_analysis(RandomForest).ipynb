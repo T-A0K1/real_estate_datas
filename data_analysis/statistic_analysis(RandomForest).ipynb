{
 "cells": [
  {
   "cell_type": "code",
   "execution_count": 1,
   "metadata": {},
   "outputs": [],
   "source": [
    "import pandas as pd\n",
    "import matplotlib.pyplot as plt\n",
    "import numpy as np\n",
    "import datetime as dt"
   ]
  },
  {
   "cell_type": "code",
   "execution_count": 2,
   "metadata": {},
   "outputs": [],
   "source": [
    "target_file_dir = \"../../datas/\"\n",
    "target_file_names = [\n",
    "    \"RealEstateData_20111_20164_13_main\",\n",
    "    \"RealEstateData_20171_20234_13_main\",\n",
    "    \"RealEstateData_20111_20234_14_main\"\n",
    "]\n",
    "target_file_end = \".csv\"\n",
    "df_origin = pd.DataFrame()\n",
    "for file_name in target_file_names:\n",
    "    df = pd.read_csv(target_file_dir + file_name + target_file_end)\n",
    "    df_origin = pd.concat([df_origin, df], axis=0)"
   ]
  },
  {
   "cell_type": "code",
   "execution_count": 3,
   "metadata": {},
   "outputs": [
    {
     "name": "stdout",
     "output_type": "stream",
     "text": [
      "(451808, 16)\n",
      "Index(['TradeNo', 'Type', 'Prefecture', 'Municipality', 'DistrictName',\n",
      "       'Structure', 'FloorPlan', 'TradePrice', 'AgeAtTrade', 'Area',\n",
      "       'TotalFloorArea', 'CoverageRatio', 'FloorAreaRatio', 'BuildingYearW',\n",
      "       'TradeYear', 'TradeQuarter'],\n",
      "      dtype='object')\n",
      "TradeNo                0\n",
      "Type                   0\n",
      "Prefecture             0\n",
      "Municipality           0\n",
      "DistrictName         444\n",
      "Structure          18304\n",
      "FloorPlan         206699\n",
      "TradePrice             0\n",
      "AgeAtTrade         18208\n",
      "Area                   0\n",
      "TotalFloorArea    263472\n",
      "CoverageRatio       6038\n",
      "FloorAreaRatio      6038\n",
      "BuildingYearW      18208\n",
      "TradeYear              0\n",
      "TradeQuarter           0\n",
      "dtype: int64\n"
     ]
    }
   ],
   "source": [
    "print(df_origin.shape)\n",
    "print(df_origin.columns)\n",
    "print(df_origin.isnull().sum())"
   ]
  },
  {
   "cell_type": "code",
   "execution_count": 10,
   "metadata": {},
   "outputs": [
    {
     "name": "stdout",
     "output_type": "stream",
     "text": [
      "451808 247102 238566\n"
     ]
    }
   ],
   "source": [
    "# パラメータ\n",
    "TradePriceThrethold = 15000\n",
    "AgeAtTradeThrethold = 50\n",
    "select_type = \"中古マンション等\" #宅地(土地と建物) 中古マンション等\n",
    "# prefecture = \"東京都\"\n",
    "use_cols = [\"TradePrice\",\"Area\",\"TradeYear\",\"AgeAtTrade\", 'Municipality'] #Municipality Prefecture\n",
    "category_cols = ['Municipality']\n",
    "AreaThrethold = 300 if select_type == \"宅地(土地と建物)\" else 100 if select_type == \"中古マンション等\" else 0\n",
    "\n",
    "# データ読み込み\n",
    "col_choice_extract = (~df_origin.AgeAtTrade.isnull())&(df_origin.Type==select_type)#&(df_origin.Prefecture==prefecture)\n",
    "col_choice_threthold = (df_origin.TradePrice<TradePriceThrethold)&(df_origin.Area<AreaThrethold)&(df_origin.AgeAtTrade<AgeAtTradeThrethold)\n",
    "df_base = df_origin.loc[col_choice_extract&col_choice_threthold,use_cols].copy()\n",
    "print(df_origin.shape[0], df_origin.loc[col_choice_extract,:].shape[0],df_base.shape[0])\n"
   ]
  },
  {
   "cell_type": "code",
   "execution_count": 9,
   "metadata": {},
   "outputs": [
    {
     "name": "stdout",
     "output_type": "stream",
     "text": [
      "Mean Absolute Error: 862.1517844053536\n"
     ]
    }
   ],
   "source": [
    "import pandas as pd\n",
    "from sklearn.model_selection import train_test_split\n",
    "from sklearn.preprocessing import StandardScaler\n",
    "from sklearn.linear_model import LinearRegression\n",
    "from sklearn.metrics import mean_absolute_error\n",
    "from sklearn.ensemble import RandomForestRegressor\n",
    "import matplotlib.pyplot as plt\n",
    "\n",
    "df = df_base.copy()\n",
    "df = pd.get_dummies(df, columns=category_cols)\n",
    "\n",
    "# 目的変数と説明変数に分割\n",
    "y = df['TradePrice']\n",
    "X = df.drop('TradePrice', axis=1)\n",
    "\n",
    "# 訓練データとテストデータに分割\n",
    "X_train, X_test, y_train, y_test = train_test_split(X, y, test_size=0.2, random_state=42)\n",
    "\n",
    "# ランダムフォレストモデルの構築\n",
    "model = RandomForestRegressor(random_state=42)\n",
    "model.fit(X_train, y_train)\n",
    "\n",
    "# モデルの評価（MAE）\n",
    "y_pred = model.predict(X_test)\n",
    "mae = mean_absolute_error(y_test, y_pred)\n",
    "\n",
    "print('Mean Absolute Error:', mae)\n"
   ]
  },
  {
   "cell_type": "code",
   "execution_count": 11,
   "metadata": {},
   "outputs": [
    {
     "name": "stdout",
     "output_type": "stream",
     "text": [
      "Mean Absolute Error: 535.4138519512444\n"
     ]
    }
   ],
   "source": [
    "import pandas as pd\n",
    "from sklearn.model_selection import train_test_split\n",
    "from sklearn.preprocessing import StandardScaler\n",
    "from sklearn.linear_model import LinearRegression\n",
    "from sklearn.metrics import mean_absolute_error\n",
    "from sklearn.ensemble import RandomForestRegressor\n",
    "import matplotlib.pyplot as plt\n",
    "\n",
    "df = df_base.copy()\n",
    "df = pd.get_dummies(df, columns=category_cols)\n",
    "\n",
    "# 目的変数と説明変数に分割\n",
    "y = df['TradePrice']\n",
    "X = df.drop('TradePrice', axis=1)\n",
    "\n",
    "# 訓練データとテストデータに分割\n",
    "X_train, X_test, y_train, y_test = train_test_split(X, y, test_size=0.2, random_state=42)\n",
    "\n",
    "# ランダムフォレストモデルの構築\n",
    "model = RandomForestRegressor(random_state=42)\n",
    "model.fit(X_train, y_train)\n",
    "\n",
    "# モデルの評価（MAE）\n",
    "y_pred = model.predict(X_test)\n",
    "mae = mean_absolute_error(y_test, y_pred)\n",
    "\n",
    "print('Mean Absolute Error:', mae)\n"
   ]
  },
  {
   "cell_type": "code",
   "execution_count": 30,
   "metadata": {},
   "outputs": [
    {
     "data": {
      "text/plain": [
       "16522      375.353845\n",
       "169926    1737.085790\n",
       "117885     459.130374\n",
       "1634       181.699664\n",
       "85649      517.536270\n",
       "             ...     \n",
       "48776     2377.028765\n",
       "72788     1034.088544\n",
       "32175      544.451059\n",
       "10035       76.644985\n",
       "19739       96.286612\n",
       "Name: TradePrice, Length: 15569, dtype: float64"
      ]
     },
     "execution_count": 30,
     "metadata": {},
     "output_type": "execute_result"
    }
   ],
   "source": [
    "absolute_errors"
   ]
  },
  {
   "cell_type": "code",
   "execution_count": null,
   "metadata": {},
   "outputs": [],
   "source": []
  }
 ],
 "metadata": {
  "kernelspec": {
   "display_name": "Python 3",
   "language": "python",
   "name": "python3"
  },
  "language_info": {
   "codemirror_mode": {
    "name": "ipython",
    "version": 3
   },
   "file_extension": ".py",
   "mimetype": "text/x-python",
   "name": "python",
   "nbconvert_exporter": "python",
   "pygments_lexer": "ipython3",
   "version": "3.9.17"
  },
  "orig_nbformat": 4
 },
 "nbformat": 4,
 "nbformat_minor": 2
}
