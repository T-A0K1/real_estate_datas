{
 "cells": [
  {
   "cell_type": "code",
   "execution_count": 2,
   "metadata": {},
   "outputs": [],
   "source": [
    "import pandas as pd\n",
    "import matplotlib.pyplot as plt\n",
    "import numpy as np\n",
    "import datetime as dt"
   ]
  },
  {
   "cell_type": "code",
   "execution_count": 3,
   "metadata": {},
   "outputs": [],
   "source": [
    "target_file_dir = \"../../datas/\"\n",
    "target_file_names = [\n",
    "    \"RealEstateData_20111_20164_13_main\",\n",
    "    \"RealEstateData_20171_20234_13_main\",\n",
    "    \"RealEstateData_20111_20234_14_main\"\n",
    "]\n",
    "target_file_end = \".csv\"\n",
    "df_origin = pd.DataFrame()\n",
    "for file_name in target_file_names:\n",
    "    df = pd.read_csv(target_file_dir + file_name + target_file_end)\n",
    "    df_origin = pd.concat([df_origin, df], axis=0)"
   ]
  },
  {
   "cell_type": "code",
   "execution_count": 6,
   "metadata": {},
   "outputs": [
    {
     "data": {
      "text/plain": [
       "array(['宅地(土地と建物)', '中古マンション等'], dtype=object)"
      ]
     },
     "execution_count": 6,
     "metadata": {},
     "output_type": "execute_result"
    }
   ],
   "source": [
    "df_origin.Type.unique()"
   ]
  },
  {
   "cell_type": "code",
   "execution_count": 11,
   "metadata": {},
   "outputs": [
    {
     "name": "stdout",
     "output_type": "stream",
     "text": [
      "(451808, 16)\n",
      "Index(['TradeNo', 'Type', 'Prefecture', 'Municipality', 'DistrictName',\n",
      "       'Structure', 'FloorPlan', 'TradePrice', 'AgeAtTrade', 'Area',\n",
      "       'TotalFloorArea', 'CoverageRatio', 'FloorAreaRatio', 'BuildingYearW',\n",
      "       'TradeYear', 'TradeQuarter'],\n",
      "      dtype='object')\n",
      "TradeNo                0\n",
      "Type                   0\n",
      "Prefecture             0\n",
      "Municipality           0\n",
      "DistrictName         444\n",
      "Structure          18304\n",
      "FloorPlan         206699\n",
      "TradePrice             0\n",
      "AgeAtTrade         18208\n",
      "Area                   0\n",
      "TotalFloorArea    263472\n",
      "CoverageRatio       6038\n",
      "FloorAreaRatio      6038\n",
      "BuildingYearW      18208\n",
      "TradeYear              0\n",
      "TradeQuarter           0\n",
      "dtype: int64\n"
     ]
    }
   ],
   "source": [
    "print(df_origin.shape)\n",
    "print(df_origin.columns)\n",
    "print(df_origin.isnull().sum())"
   ]
  },
  {
   "cell_type": "code",
   "execution_count": 78,
   "metadata": {},
   "outputs": [
    {
     "name": "stdout",
     "output_type": "stream",
     "text": [
      "451808 186498 170972\n"
     ]
    }
   ],
   "source": [
    "# パラメータ\n",
    "TradePriceThrethold = 15000\n",
    "AgeAtTradeThrethold = 50\n",
    "select_type = \"宅地(土地と建物)\" #宅地(土地と建物) 中古マンション等\n",
    "# prefecture = \"東京都\"\n",
    "use_cols_noncategory = [\"TradePrice\",\"Area\",\"TradeYear\",\"AgeAtTrade\"] #Municipality Prefecture\n",
    "category_cols = ['Municipality']\n",
    "use_cols = use_cols_noncategory + category_cols\n",
    "AreaThrethold = 300 if select_type == \"宅地(土地と建物)\" else 100 if select_type == \"中古マンション等\" else 0\n",
    "\n",
    "# データ読み込み\n",
    "col_choice_extract = (~df_origin.AgeAtTrade.isnull())&(df_origin.Type==select_type)#&(df_origin.Prefecture==prefecture)\n",
    "col_choice_threthold = (df_origin.TradePrice<TradePriceThrethold)&(df_origin.Area<AreaThrethold)&(df_origin.AgeAtTrade<AgeAtTradeThrethold)\n",
    "df_base = df_origin.loc[col_choice_extract&col_choice_threthold,use_cols].copy()\n",
    "print(df_origin.shape[0], df_origin.loc[col_choice_extract,:].shape[0],df_base.shape[0])\n"
   ]
  },
  {
   "cell_type": "code",
   "execution_count": 79,
   "metadata": {},
   "outputs": [
    {
     "name": "stdout",
     "output_type": "stream",
     "text": [
      "Coefficients: {'Area': 20.4578494715531, 'TradeYear': 85.26563537584993, 'AgeAtTrade': -57.41848678581118, 'あきる野市': -1964.8777345272429, '三宅村': -5521.751965027436, '三浦市': -2014.677802228828, '三浦郡葉山町': -611.5102691388265, '三鷹市': 1651.9284675201814, '世田谷区': 3818.049323621791, '中央区': 5778.644631171601, '中郡二宮町': -1908.5138044326095, '中郡大磯町': -1669.5030255146312, '中野区': 2832.169057178563, '伊勢原市': -1736.5187374833235, '八丈町': -4630.566492989373, '八王子市': -1161.2917899428621, '北区': 1984.4622925731132, '千代田区': 5795.619512440395, '南足柄市': -2448.480432357553, '厚木市': -1357.241664649714, '台東区': 3326.5807180838715, '品川区': 3431.3241164994297, '国分寺市': 771.4022229479892, '国立市': 1044.488628516424, '墨田区': 1824.086208472321, '多摩市': -122.88797202009891, '大和市': -187.2839978194619, '大島町': -4285.0371685109785, '大田区': 2709.9171044682844, '小平市': 239.99832045551148, '小田原市': -1777.7014126747413, '小笠原村': -1339.99451817634, '小金井市': 1193.036627442721, '川崎市中原区': 2026.0720336208697, '川崎市多摩区': 598.4720194710825, '川崎市宮前区': 491.7110921433855, '川崎市川崎区': 1213.3044257792037, '川崎市幸区': 1411.0541819418258, '川崎市高津区': 1094.6456776857024, '川崎市麻生区': 192.13966960072077, '平塚市': -1321.2744110903375, '府中市': 657.9196346109965, '座間市': -908.6227880590909, '愛甲郡愛川町': -2260.4218531354813, '愛甲郡清川村': -2724.7463983620455, '文京区': 4449.227840813623, '新宿区': 3894.241676580642, '新島村': -4222.164574566966, '日野市': -441.1372698334576, '昭島市': -416.12249939802496, '杉並区': 3123.014423685492, '東久留米市': -176.76606006070472, '東大和市': -803.2916387676629, '東村山市': -592.5531592335346, '板橋区': 1734.2821497355176, '横浜市中区': 1029.4702933020092, '横浜市保土ケ谷区': -135.670645960508, '横浜市南区': 154.0823540789396, '横浜市戸塚区': -309.04284683482405, '横浜市旭区': -254.16669219043365, '横浜市栄区': -703.4330202037365, '横浜市泉区': -233.68362643159782, '横浜市港北区': 1388.4838587256224, '横浜市港南区': -6.942324229440942, '横浜市瀬谷区': -418.53690380052296, '横浜市磯子区': -2.0886047635833336, '横浜市神奈川区': 933.601124492223, '横浜市緑区': 39.081425087359435, '横浜市西区': 1221.3800261242377, '横浜市都筑区': 945.8838372326679, '横浜市金沢区': -302.1364621118204, '横浜市青葉区': 1216.651204962871, '横浜市鶴見区': 669.6862555285444, '横須賀市': -1283.1760732379205, '武蔵村山市': -1318.8599730874148, '武蔵野市': 3495.9499715644015, '江戸川区': 1201.822436368993, '江東区': 2398.2518007787457, '海老名市': -593.5926343825478, '清瀬市': -570.1961724161399, '渋谷区': 4967.6932136481055, '港区': 6038.977055886774, '狛江市': 1079.9676148890992, '町田市': -665.1222501870261, '目黒区': 5029.375566578126, '相模原市中央区': -738.6119620849564, '相模原市南区': -210.8594751658742, '相模原市緑区': -1354.543111619083, '神津島村': -3825.2212783099394, '福生市': -824.7698958393655, '秦野市': -2051.0230230572874, '稲城市': 227.33975566514187, '立川市': -97.25756201162653, '綾瀬市': -1062.7626465902244, '練馬区': 1793.2825965430502, '羽村市': -908.0340680448428, '茅ヶ崎市': -322.7453543468307, '荒川区': 1814.582586294489, '葛飾区': 760.9661054634942, '藤沢市': 69.7292255497714, '西多摩郡奥多摩町': -2658.9179576740626, '西多摩郡日の出町': -2253.750965744457, '西多摩郡檜原村': -4363.166950785879, '西多摩郡瑞穂町': -1928.288094802858, '西東京市': 748.1743526209741, '調布市': 1344.2038457554913, '豊島区': 3181.340252149554, '足柄上郡中井町': -2741.6630850286374, '足柄上郡大井町': -2369.39978090477, '足柄上郡山北町': -3156.607729392539, '足柄上郡松田町': -2443.4888405525758, '足柄上郡開成町': -1962.1250286623258, '足柄下郡湯河原町': -2316.374540544796, '足柄下郡真鶴町': -2193.9987757699, '足柄下郡箱根町': -2852.221488739494, '足立区': 543.8217051017614, '逗子市': -382.01933415276744, '鎌倉市': -13.097962136291471, '青梅市': -1791.8303131083492, '高座郡寒川町': -1357.2236265511322, '1': 9.634721932333605, '2': -16.653700468617217, '3': -9.309868181244155, '4': 16.328846718517525}\n",
      "Intercept: -170102.5883177297\n",
      "Mean Absolute Error: 913.4689187586278\n"
     ]
    },
    {
     "data": {
      "image/png": "[encoded data removed]",
      "text/plain": [
       "<Figure size 432x288 with 1 Axes>"
      ]
     },
     "metadata": {
      "needs_background": "light"
     },
     "output_type": "display_data"
    }
   ],
   "source": [
    "import pandas as pd\n",
    "from sklearn.model_selection import train_test_split\n",
    "from sklearn.preprocessing import StandardScaler\n",
    "from sklearn.linear_model import LinearRegression\n",
    "from sklearn.metrics import mean_absolute_error\n",
    "import matplotlib.pyplot as plt\n",
    "\n",
    "# データ読み込み\n",
    "# df = pd.read_csv('your_data.csv')  # データがCSVファイルから読み込まれる場合\n",
    "\n",
    "# Prefecture列をOne-Hotエンコーディングして新しい列を作成\n",
    "df = df_base.copy()\n",
    "category_col_counts = []\n",
    "for category_col in category_cols:\n",
    "    df = pd.get_dummies(df, columns=[category_col])\n",
    "    df.columns = df.columns.str.split('_').str[-1] #prefixを除去\n",
    "    category_col_counts.append(len(df_base[category_col].unique()))\n",
    "\n",
    "# 被説明変数と説明変数に分割\n",
    "X = df.drop('TradePrice', axis=1)\n",
    "y = df['TradePrice']\n",
    "\n",
    "# データの正規化\n",
    "scaler = StandardScaler()\n",
    "X_normalized = scaler.fit_transform(X)\n",
    "X_normalized=X\n",
    "\n",
    "# 訓練データとテストデータに分割\n",
    "X_train, X_test, y_train, y_test = train_test_split(X_normalized, y, test_size=0.2, random_state=42)\n",
    "\n",
    "# 重回帰分析モデルの構築\n",
    "model = LinearRegression()\n",
    "model.fit(X_train, y_train)\n",
    "\n",
    "# モデルの評価（絶対値誤差）\n",
    "y_pred = model.predict(X_test)\n",
    "mae = mean_absolute_error(y_test, y_pred)\n",
    "\n",
    "# 係数と切片の表示\n",
    "coefficients = dict(zip(X.columns, model.coef_))\n",
    "intercept = model.intercept_\n",
    "\n",
    "print('Coefficients:', coefficients)\n",
    "print('Intercept:', intercept)\n",
    "\n",
    "# MAEの表示\n",
    "print('Mean Absolute Error:', mae)\n",
    "\n",
    "# テストデータの結果をグラフ化\n",
    "# for column in X.columns:\n",
    "#     plt.scatter(X_test[:, X.columns.get_loc(column)], y_test, label='Actual')\n",
    "#     plt.scatter(X_test[:, X.columns.get_loc(column)], y_pred, label='Predicted')\n",
    "#     plt.xlabel(column)\n",
    "#     plt.ylabel('TradePrice')\n",
    "#     plt.legend()\n",
    "#     plt.show()\n",
    "\n",
    "# 予測をx軸、正解をy軸とした散布図\n",
    "plt.scatter(y_pred, y_test)\n",
    "plt.xlabel('Predicted TradePrice')\n",
    "plt.ylabel('Actual TradePrice')\n",
    "plt.title('Scatter Plot of Predicted vs Actual TradePrice')\n",
    "plt.show()\n"
   ]
  },
  {
   "cell_type": "code",
   "execution_count": 71,
   "metadata": {},
   "outputs": [],
   "source": [
    "# 説明変数とその切片の値を、記録\n",
    "# categoryをdummy化したものと、そうでないものでdfを分ける。\n",
    "df_coef = pd.DataFrame(\n",
    "    [X.columns, model.coef_],\n",
    "    index=['col_name', 'coef']\n",
    "    ).T\n",
    "df_coef['Type'] = select_type\n",
    "\n",
    "start_category_col = len(use_cols_noncategory)-1\n",
    "df_coef_noncate = df_coef.iloc[:start_category_col,:].copy()\n",
    "df_coef_noncate = df_coef_noncate.loc[:,['Type', 'col_name', 'coef']]\n",
    "\n",
    "\n",
    "df_coef_cate = df_coef.iloc[start_category_col:,:].copy()\n",
    "\n",
    "df_coef_cate['col_name_value'] = df_coef_cate.col_name\n",
    "now_col = 0\n",
    "for i, category_col in enumerate(category_cols):\n",
    "    next_col = now_col + category_col_counts[i] \n",
    "    df_coef_cate.iloc[now_col:next_col,0]= category_col\n",
    "    now_col = next_col\n",
    "df_coef_cate = df_coef_cate.loc[:,['Type','col_name_value', 'col_name', 'coef']]\n",
    "df_coef_cate\n",
    "\n",
    "df_coef_noncate.to_csv('../../datas/RealEsateData_重回帰切片_noncate_' + select_type + '.csv', index=False)\n",
    "df_coef_cate.to_csv('../../datas/RealEsateData_重回帰切片_cate_' + select_type + '.csv', index=False)"
   ]
  },
  {
   "cell_type": "code",
   "execution_count": 58,
   "metadata": {},
   "outputs": [
    {
     "data": {
      "text/plain": [
       "2"
      ]
     },
     "execution_count": 58,
     "metadata": {},
     "output_type": "execute_result"
    }
   ],
   "source": [
    "next_col"
   ]
  },
  {
   "cell_type": "code",
   "execution_count": 16,
   "metadata": {},
   "outputs": [
    {
     "name": "stdout",
     "output_type": "stream",
     "text": [
      "      _A     _B     _C     _X     _Y     _Z\n",
      "0   True  False  False   True  False  False\n",
      "1  False   True  False  False   True  False\n",
      "2   True  False  False   True  False  False\n",
      "3  False  False   True  False  False   True\n",
      "4  False   True  False  False  False   True\n"
     ]
    }
   ],
   "source": [
    "import pandas as pd\n",
    "\n",
    "# サンプルデータを作成\n",
    "data = {\n",
    "    'Category1': ['A', 'B', 'A', 'C', 'B'],\n",
    "    'Category2': ['X', 'Y', 'X', 'Z', 'Z']\n",
    "}\n",
    "\n",
    "df = pd.DataFrame(data)\n",
    "\n",
    "# prefixを指定せずにダミー変数を生成\n",
    "df_dummies = pd.get_dummies(df, prefix='')\n",
    "\n",
    "# 結果を表示\n",
    "print(df_dummies)"
   ]
  },
  {
   "cell_type": "code",
   "execution_count": 48,
   "metadata": {},
   "outputs": [
    {
     "data": {
      "text/plain": [
       "14000.0"
      ]
     },
     "execution_count": 48,
     "metadata": {},
     "output_type": "execute_result"
    }
   ],
   "source": [
    "max(y)"
   ]
  },
  {
   "cell_type": "code",
   "execution_count": null,
   "metadata": {},
   "outputs": [],
   "source": []
  }
 ],
 "metadata": {
  "kernelspec": {
   "display_name": "Python 3",
   "language": "python",
   "name": "python3"
  },
  "language_info": {
   "codemirror_mode": {
    "name": "ipython",
    "version": 3
   },
   "file_extension": ".py",
   "mimetype": "text/x-python",
   "name": "python",
   "nbconvert_exporter": "python",
   "pygments_lexer": "ipython3",
   "version": "3.9.17"
  },
  "orig_nbformat": 4
 },
 "nbformat": 4,
 "nbformat_minor": 2
}
