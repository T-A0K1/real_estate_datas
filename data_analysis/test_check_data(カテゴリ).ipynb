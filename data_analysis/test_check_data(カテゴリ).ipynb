{
 "cells": [
  {
   "cell_type": "markdown",
   "metadata": {},
   "source": [
    "### カテゴリ変数データのチェックと、データの絞り込み"
   ]
  },
  {
   "cell_type": "code",
   "execution_count": 2,
   "metadata": {},
   "outputs": [],
   "source": [
    "import pandas as pd"
   ]
  },
  {
   "cell_type": "code",
   "execution_count": 3,
   "metadata": {},
   "outputs": [],
   "source": [
    "target_file_dir = \"../datas/\"\n",
    "target_file_name = \"real_estate_data_20211_20224_14_extract_by_cate\"\n",
    "target_file_end = \".csv\"\n",
    "df = pd.read_csv(target_file_dir + target_file_name + target_file_end)"
   ]
  },
  {
   "cell_type": "code",
   "execution_count": 19,
   "metadata": {},
   "outputs": [
    {
     "data": {
      "text/plain": [
       "Index(['Type', 'Region', 'MunicipalityCode', 'Prefecture', 'Municipality',\n",
       "       'DistrictName', 'TradePrice', 'Area', 'UnitPrice', 'LandShape',\n",
       "       'Frontage', 'Purpose', 'Breadth', 'CityPlanning', 'CoverageRatio',\n",
       "       'FloorAreaRatio', 'Period', 'TotalFloorArea', 'BuildingYear',\n",
       "       'Structure', 'FloorPlan', 'Renovation', 'Use', 'Remarks',\n",
       "       'Frontage_over_flag', 'Area_over_flag', 'TotalFloorArea_over_flag',\n",
       "       'TotalFloorArea_under_flag', 'BuildingYearW', 'TradeYear',\n",
       "       'TradeQuarter', 'AgeAtTrade'],\n",
       "      dtype='object')"
      ]
     },
     "execution_count": 19,
     "metadata": {},
     "output_type": "execute_result"
    }
   ],
   "source": [
    "df.columns"
   ]
  },
  {
   "cell_type": "code",
   "execution_count": 4,
   "metadata": {},
   "outputs": [],
   "source": [
    "def pv_count(df_, target_col):\n",
    "    df2_ = df_.loc[:,['Area', target_col]].fillna('Nan')\n",
    "    df_pv_= df2_.pivot_table(\n",
    "        index=target_col, \n",
    "        values='Area', \n",
    "        aggfunc='count',\n",
    "        fill_value=0\n",
    "        ).sort_values('Area', ascending=False)\n",
    "    \n",
    "    count_sum = df_.shape[0]\n",
    "    df_pv_['Percentage'] = (df_pv_['Area'] / count_sum * 100).round(1)\n",
    "    df_pv_['Area'] = df_pv_.Area.astype('int')\n",
    "    df_pv_.columns = [target_col+'_count', target_col+'(%)']\n",
    "    \n",
    "    print(df_pv_.T.iloc[:,:15].to_markdown())"
   ]
  },
  {
   "cell_type": "code",
   "execution_count": 5,
   "metadata": {},
   "outputs": [
    {
     "name": "stdout",
     "output_type": "stream",
     "text": [
      "|                    |   中央 |   新横浜 |   鶴見中央 |   上鶴間本町 |    森 |   戸塚町 |   港南台 |   本町 |   相模原 |   大倉山 |   平沼 |   美しが丘 |   山下町 |   上溝 |   相模が丘 |\n",
      "|:-------------------|-------:|---------:|-----------:|-------------:|------:|---------:|---------:|-------:|---------:|---------:|-------:|-----------:|---------:|-------:|-----------:|\n",
      "| DistrictName_count |  170   |    158   |      151   |        143   | 135   |    121   |    116   |  113   |    113   |    106   |  105   |      104   |    103   |   97   |       97   |\n",
      "| DistrictName(%)    |    0.6 |      0.5 |        0.5 |          0.5 |   0.5 |      0.4 |      0.4 |    0.4 |      0.4 |      0.4 |    0.4 |        0.4 |      0.3 |    0.3 |        0.3 |\n",
      "\n",
      "|            |   中古マンション等 |   宅地(土地と建物) |\n",
      "|:-----------|-------------------:|-------------------:|\n",
      "| Type_count |              15062 |              14486 |\n",
      "| Type(%)    |                 51 |                 49 |\n",
      "\n",
      "|              |   Nan |   住宅地 |   商業地 |   工業地 |\n",
      "|:-------------|------:|---------:|---------:|---------:|\n",
      "| Region_count | 15062 |  14267   |    206   |       13 |\n",
      "| Region(%)    |    51 |     48.3 |      0.7 |        0 |\n",
      "\n",
      "|                    |   横浜市港北区 |   藤沢市 |   横須賀市 |   横浜市鶴見区 |   横浜市青葉区 |   横浜市南区 |   横浜市戸塚区 |   横浜市中区 |   横浜市神奈川区 |   川崎市川崎区 |   相模原市南区 |   相模原市中央区 |   川崎市中原区 |   横浜市旭区 |   川崎市宮前区 |\n",
      "|:-------------------|---------------:|---------:|-----------:|---------------:|---------------:|-------------:|---------------:|-------------:|-----------------:|---------------:|---------------:|-----------------:|---------------:|-------------:|---------------:|\n",
      "| Municipality_count |         1346   |   1262   |     1157   |         1014   |          991   |        986   |          983   |        969   |            933   |          905   |            892 |            864   |          859   |        807   |          780   |\n",
      "| Municipality(%)    |            4.6 |      4.3 |        3.9 |            3.4 |            3.4 |          3.3 |            3.3 |          3.3 |              3.2 |            3.1 |              3 |              2.9 |            2.9 |          2.7 |            2.6 |\n",
      "\n",
      "|                 |   Nan |   ほぼ長方形 |   長方形 |   不整形 |   ほぼ台形 |   袋地等 |   ほぼ正方形 |   ほぼ整形 |   台形 |   正方形 |\n",
      "|:----------------|------:|-------------:|---------:|---------:|-----------:|---------:|-------------:|-----------:|-------:|---------:|\n",
      "| LandShape_count | 15062 |       4680   |   3197   |   1719   |     1587   |   1411   |        688   |        603 |  493   |    108   |\n",
      "| LandShape(%)    |    51 |         15.8 |     10.8 |      5.8 |        5.4 |      4.8 |          2.3 |          2 |    1.7 |      0.4 |\n",
      "\n",
      "|                 |    木造 |    ＲＣ |    Nan |   ＳＲＣ |   軽量鉄骨造 |   鉄骨造 |   ブロック造 |   ＲＣ、木造 |   ＲＣ、鉄骨造 |   ＳＲＣ、ＲＣ |   鉄骨造、木造 |   木造、ブロック造 |   鉄骨造、木造、ブロック造 |   ＳＲＣ、ＲＣ、鉄骨造 |\n",
      "|:----------------|--------:|--------:|-------:|---------:|-------------:|---------:|-------------:|-------------:|---------------:|---------------:|---------------:|-------------------:|---------------------------:|-----------------------:|\n",
      "| Structure_count | 12858   | 10737   | 2685   |   2467   |        550   |    187   |         19   |         19   |             13 |              7 |              3 |                  1 |                          1 |                      1 |\n",
      "| Structure(%)    |    43.5 |    36.3 |    9.1 |      8.3 |          1.9 |      0.6 |          0.1 |          0.1 |              0 |              0 |              0 |                  0 |                          0 |                      0 |\n",
      "\n",
      "|           |    住宅 |    Nan |\n",
      "|:----------|--------:|-------:|\n",
      "| Use_count | 24184   | 5364   |\n",
      "| Use(%)    |    81.8 |   18.2 |\n",
      "\n",
      "|               |   住宅 |    Nan |   その他 |   事務所 |   店舗 |   倉庫 |   工場 |\n",
      "|:--------------|-------:|-------:|---------:|---------:|-------:|-------:|-------:|\n",
      "| Purpose_count |  26889 | 1248   |   1200   |    135   |   47   |   24   |      5 |\n",
      "| Purpose(%)    |     91 |    4.2 |      4.1 |      0.5 |    0.2 |    0.1 |      0 |\n",
      "\n",
      "|                    |   第１種低層住居専用地域 |   第１種中高層住居専用地域 |   第１種住居地域 |   商業地域 |   近隣商業地域 |   準工業地域 |   第２種中高層住居専用地域 |   第２種住居地域 |   準住居地域 |   工業地域 |   市街化調整区域 |   Nan |   第２種低層住居専用地域 |   市街化区域及び市街化調整区域外の都市計画区域 |   都市計画区域外 |\n",
      "|:-------------------|-------------------------:|---------------------------:|-----------------:|-----------:|---------------:|-------------:|---------------------------:|-----------------:|-------------:|-----------:|-----------------:|------:|-------------------------:|-----------------------------------------------:|-----------------:|\n",
      "| CityPlanning_count |                   7447   |                     5066   |           4942   |     3909   |         1664   |       1626   |                     1220   |           1006   |        958   |      688   |            436   | 364   |                    100   |                                           98   |               14 |\n",
      "| CityPlanning(%)    |                     25.2 |                       17.1 |             16.7 |       13.2 |            5.6 |          5.5 |                        4.1 |              3.4 |          3.2 |        2.3 |              1.5 |   1.2 |                      0.3 |                                            0.3 |                0 |\n",
      "\n",
      "|              |   2021年第１四半期 |   2021年第２四半期 |   2021年第３四半期 |   2021年第４四半期 |   2022年第２四半期 |   2022年第１四半期 |   2022年第３四半期 |   2022年第４四半期 |\n",
      "|:-------------|-------------------:|-------------------:|-------------------:|-------------------:|-------------------:|-------------------:|-------------------:|-------------------:|\n",
      "| Period_count |               4127 |             4117   |             3908   |             3800   |               3531 |             3428   |             3378   |               3259 |\n",
      "| Period(%)    |                 14 |               13.9 |               13.2 |               12.9 |                 12 |               11.6 |               11.4 |                 11 |\n",
      "\n",
      "|                 |     Nan |   ３ＬＤＫ |   ２ＬＤＫ |   １Ｋ |   ４ＬＤＫ |   １ＬＤＫ |   ２ＤＫ |   １ＤＫ |   ３ＤＫ |   １Ｒ |   ２ＬＤＫ＋Ｓ |   １ＬＤＫ＋Ｓ |   オープンフロア |   ２Ｋ |   ３ＬＤＫ＋Ｓ |\n",
      "|:----------------|--------:|-----------:|-----------:|-------:|-----------:|-----------:|---------:|---------:|---------:|-------:|---------------:|---------------:|-----------------:|-------:|---------------:|\n",
      "| FloorPlan_count | 15002   |     6654   |     2607   | 2469   |      867   |        599 |    420   |    316   |    211   |  147   |          106   |           34   |             30   |   16   |             14 |\n",
      "| FloorPlan(%)    |    50.8 |       22.5 |        8.8 |    8.4 |        2.9 |          2 |      1.4 |      1.1 |      0.7 |    0.5 |            0.4 |            0.1 |              0.1 |    0.1 |              0 |\n",
      "\n",
      "|                  |     Nan |   未改装 |   改装済 |\n",
      "|:-----------------|--------:|---------:|---------:|\n",
      "| Renovation_count | 16372   |   9004   |   4172   |\n",
      "| Renovation(%)    |    55.4 |     30.5 |     14.1 |\n",
      "\n"
     ]
    }
   ],
   "source": [
    "cols = ['DistrictName','Type', 'Region','Municipality', 'LandShape','Structure', 'Use', 'Purpose', 'CityPlanning', 'Period', 'FloorPlan', 'Renovation']\n",
    "for col in cols:\n",
    "    pv_count(df, col)\n",
    "    print()"
   ]
  },
  {
   "cell_type": "code",
   "execution_count": 6,
   "metadata": {},
   "outputs": [
    {
     "name": "stdout",
     "output_type": "stream",
     "text": [
      "(29548, 32)\n",
      "(29548, 32)\n",
      "(29548, 32)\n",
      "(29548, 32)\n"
     ]
    }
   ],
   "source": [
    "import numpy as np\n",
    "df2 = df.copy()\n",
    "print(df2.shape)\n",
    "df2 = df2.query('Type in [\"宅地(土地と建物)\",\"中古マンション等\"]')\n",
    "print(df2.shape)\n",
    "desired_values_Use=['住宅',  np.nan, '共同住宅', '住宅']\n",
    "df2 = df2[df2['Use'].isin(desired_values_Use)]\n",
    "print(df2.shape)\n",
    "desired_values_Purpose=['住宅',  np.nan]\n",
    "df2 = df2[df2['Use'].isin(desired_values_Purpose)]\n",
    "print(df2.shape)\n",
    "\n"
   ]
  },
  {
   "cell_type": "code",
   "execution_count": 21,
   "metadata": {},
   "outputs": [],
   "source": [
    "target_file_name_new = target_file_name + \"_extract_by_cate\"\n",
    "df2.to_csv(\n",
    "    target_file_dir + target_file_name_new + target_file_end,\n",
    "    index=False)\n"
   ]
  },
  {
   "cell_type": "code",
   "execution_count": null,
   "metadata": {},
   "outputs": [],
   "source": []
  }
 ],
 "metadata": {
  "kernelspec": {
   "display_name": "Python 3",
   "language": "python",
   "name": "python3"
  },
  "language_info": {
   "codemirror_mode": {
    "name": "ipython",
    "version": 3
   },
   "file_extension": ".py",
   "mimetype": "text/x-python",
   "name": "python",
   "nbconvert_exporter": "python",
   "pygments_lexer": "ipython3",
   "version": "3.9.17"
  },
  "orig_nbformat": 4
 },
 "nbformat": 4,
 "nbformat_minor": 2
}
