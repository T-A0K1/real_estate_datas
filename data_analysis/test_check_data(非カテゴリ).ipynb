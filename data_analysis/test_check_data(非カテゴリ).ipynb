{
 "cells": [
  {
   "cell_type": "code",
   "execution_count": 9,
   "metadata": {},
   "outputs": [],
   "source": [
    "import pandas as pd\n",
    "import matplotlib.pyplot as plt\n",
    "import numpy as np\n",
    "import datetime as dt"
   ]
  },
  {
   "cell_type": "code",
   "execution_count": 10,
   "metadata": {},
   "outputs": [],
   "source": [
    "target_file_dir = \"../datas/\"\n",
    "target_file_name = \"real_estate_data_20211_20224_14_extract_by_cate\"\n",
    "target_file_end = \".csv\"\n",
    "df = pd.read_csv(target_file_dir + target_file_name + target_file_end)\n",
    "df['TradePrice'] = df.TradePrice/10000"
   ]
  },
  {
   "cell_type": "code",
   "execution_count": 12,
   "metadata": {},
   "outputs": [
    {
     "data": {
      "text/html": [
       "<div>\n",
       "<style scoped>\n",
       "    .dataframe tbody tr th:only-of-type {\n",
       "        vertical-align: middle;\n",
       "    }\n",
       "\n",
       "    .dataframe tbody tr th {\n",
       "        vertical-align: top;\n",
       "    }\n",
       "\n",
       "    .dataframe thead th {\n",
       "        text-align: right;\n",
       "    }\n",
       "</style>\n",
       "<table border=\"1\" class=\"dataframe\">\n",
       "  <thead>\n",
       "    <tr style=\"text-align: right;\">\n",
       "      <th></th>\n",
       "      <th>Type</th>\n",
       "      <th>Prefecture</th>\n",
       "      <th>Municipality</th>\n",
       "      <th>DistrictName</th>\n",
       "      <th>Structure</th>\n",
       "      <th>FloorPlan</th>\n",
       "      <th>TradePrice</th>\n",
       "      <th>AgeAtTrade</th>\n",
       "      <th>Area</th>\n",
       "      <th>TotalFloorArea</th>\n",
       "      <th>CoverageRatio</th>\n",
       "      <th>FloorAreaRatio</th>\n",
       "      <th>BuildingYearW</th>\n",
       "      <th>TradeYear</th>\n",
       "      <th>TradeQuarter</th>\n",
       "    </tr>\n",
       "  </thead>\n",
       "  <tbody>\n",
       "    <tr>\n",
       "      <th>0</th>\n",
       "      <td>宅地(土地と建物)</td>\n",
       "      <td>神奈川県</td>\n",
       "      <td>横浜市鶴見区</td>\n",
       "      <td>朝日町</td>\n",
       "      <td>木造</td>\n",
       "      <td>NaN</td>\n",
       "      <td>4000.0</td>\n",
       "      <td>5.0</td>\n",
       "      <td>60</td>\n",
       "      <td>95.0</td>\n",
       "      <td>60.0</td>\n",
       "      <td>200.0</td>\n",
       "      <td>2017.0</td>\n",
       "      <td>2022</td>\n",
       "      <td>2</td>\n",
       "    </tr>\n",
       "    <tr>\n",
       "      <th>1</th>\n",
       "      <td>中古マンション等</td>\n",
       "      <td>神奈川県</td>\n",
       "      <td>横浜市鶴見区</td>\n",
       "      <td>朝日町</td>\n",
       "      <td>ＲＣ</td>\n",
       "      <td>３ＬＤＫ</td>\n",
       "      <td>2200.0</td>\n",
       "      <td>38.0</td>\n",
       "      <td>70</td>\n",
       "      <td>NaN</td>\n",
       "      <td>60.0</td>\n",
       "      <td>200.0</td>\n",
       "      <td>1983.0</td>\n",
       "      <td>2021</td>\n",
       "      <td>4</td>\n",
       "    </tr>\n",
       "    <tr>\n",
       "      <th>2</th>\n",
       "      <td>中古マンション等</td>\n",
       "      <td>神奈川県</td>\n",
       "      <td>横浜市鶴見区</td>\n",
       "      <td>朝日町</td>\n",
       "      <td>ＲＣ</td>\n",
       "      <td>３ＬＤＫ</td>\n",
       "      <td>2100.0</td>\n",
       "      <td>38.0</td>\n",
       "      <td>70</td>\n",
       "      <td>NaN</td>\n",
       "      <td>60.0</td>\n",
       "      <td>200.0</td>\n",
       "      <td>1983.0</td>\n",
       "      <td>2021</td>\n",
       "      <td>4</td>\n",
       "    </tr>\n",
       "    <tr>\n",
       "      <th>3</th>\n",
       "      <td>中古マンション等</td>\n",
       "      <td>神奈川県</td>\n",
       "      <td>横浜市鶴見区</td>\n",
       "      <td>朝日町</td>\n",
       "      <td>ＲＣ</td>\n",
       "      <td>３ＬＤＫ</td>\n",
       "      <td>1300.0</td>\n",
       "      <td>38.0</td>\n",
       "      <td>70</td>\n",
       "      <td>NaN</td>\n",
       "      <td>60.0</td>\n",
       "      <td>200.0</td>\n",
       "      <td>1983.0</td>\n",
       "      <td>2021</td>\n",
       "      <td>2</td>\n",
       "    </tr>\n",
       "    <tr>\n",
       "      <th>4</th>\n",
       "      <td>中古マンション等</td>\n",
       "      <td>神奈川県</td>\n",
       "      <td>横浜市鶴見区</td>\n",
       "      <td>朝日町</td>\n",
       "      <td>ＲＣ</td>\n",
       "      <td>３ＬＤＫ</td>\n",
       "      <td>2300.0</td>\n",
       "      <td>38.0</td>\n",
       "      <td>70</td>\n",
       "      <td>NaN</td>\n",
       "      <td>60.0</td>\n",
       "      <td>200.0</td>\n",
       "      <td>1983.0</td>\n",
       "      <td>2021</td>\n",
       "      <td>2</td>\n",
       "    </tr>\n",
       "  </tbody>\n",
       "</table>\n",
       "</div>"
      ],
      "text/plain": [
       "        Type Prefecture Municipality DistrictName Structure FloorPlan  \\\n",
       "0  宅地(土地と建物)       神奈川県       横浜市鶴見区          朝日町        木造       NaN   \n",
       "1   中古マンション等       神奈川県       横浜市鶴見区          朝日町        ＲＣ      ３ＬＤＫ   \n",
       "2   中古マンション等       神奈川県       横浜市鶴見区          朝日町        ＲＣ      ３ＬＤＫ   \n",
       "3   中古マンション等       神奈川県       横浜市鶴見区          朝日町        ＲＣ      ３ＬＤＫ   \n",
       "4   中古マンション等       神奈川県       横浜市鶴見区          朝日町        ＲＣ      ３ＬＤＫ   \n",
       "\n",
       "   TradePrice  AgeAtTrade  Area  TotalFloorArea  CoverageRatio  \\\n",
       "0      4000.0         5.0    60            95.0           60.0   \n",
       "1      2200.0        38.0    70             NaN           60.0   \n",
       "2      2100.0        38.0    70             NaN           60.0   \n",
       "3      1300.0        38.0    70             NaN           60.0   \n",
       "4      2300.0        38.0    70             NaN           60.0   \n",
       "\n",
       "   FloorAreaRatio  BuildingYearW  TradeYear  TradeQuarter  \n",
       "0           200.0         2017.0       2022             2  \n",
       "1           200.0         1983.0       2021             4  \n",
       "2           200.0         1983.0       2021             4  \n",
       "3           200.0         1983.0       2021             2  \n",
       "4           200.0         1983.0       2021             2  "
      ]
     },
     "execution_count": 12,
     "metadata": {},
     "output_type": "execute_result"
    }
   ],
   "source": []
  },
  {
   "cell_type": "code",
   "execution_count": 11,
   "metadata": {},
   "outputs": [],
   "source": [
    "def plot_hist_of_bar(df_, target_col, bins_, add_class_col_to_df = True, save_fig=False):\n",
    "    # 指定列に対して、指定したbins(左端指定)でのhistgramを作成\n",
    "    bins_ = bins_ + [999999]\n",
    "\n",
    "    df_['Classified'] = pd.cut(df_[target_col], bins=bins_, labels=[str(bins_[i])+'~' for i in range(len(bins_)-1)])\n",
    "    if add_class_col_to_df:\n",
    "        df_['Classified_'+target_col] = pd.cut(df_[target_col], bins=bins_, labels=bins_[:-1])\n",
    "    df_['Classified'] = df_['Classified'].cat.add_categories('Empty').fillna('Empty')\n",
    "\n",
    "    # 新たに作成した列の値をカウントして棒グラフを作成\n",
    "    counts = df_['Classified'].value_counts().sort_index()\n",
    "\n",
    "    # 棒グラフをプロット\n",
    "    plt.figure(figsize=(10, 4))\n",
    "    plt.bar(counts.index, counts, \n",
    "            color='skyblue', edgecolor='black')\n",
    "\n",
    "    plt.xlabel('Bins')\n",
    "    plt.ylabel('Frequency')\n",
    "    plt.title(f'Histogram of {target_col}')\n",
    "    \n",
    "    if save_fig == True:\n",
    "        yyyymmdd = dt.datetime.today().strftime('%Y%m%d')\n",
    "        plt.savefig(f'../images/histgram_{target_col}_{yyyymmdd}.png', bbox_inches='tight')  # 保存するファイル名と拡張子を指定\n",
    "\n",
    "    plt.show()\n"
   ]
  },
  {
   "cell_type": "markdown",
   "metadata": {},
   "source": [
    "- TradePrice\n",
    "- Area\n",
    "- TotalFloorArea\n",
    "- Breadth\n",
    "- CoverageRatio\n",
    "- FloorAreaRatio\n",
    "- AgeAtTrade"
   ]
  },
  {
   "cell_type": "code",
   "execution_count": 117,
   "metadata": {},
   "outputs": [
    {
     "data": {
      "image/png": "[encoded data removed]",
      "text/plain": [
       "<Figure size 720x288 with 1 Axes>"
      ]
     },
     "metadata": {
      "needs_background": "light"
     },
     "output_type": "display_data"
    }
   ],
   "source": [
    "bins = [i*1000 for i in range(11)]\n",
    "plot_hist_of_bar(df, 'TradePrice', bins, True, True)"
   ]
  },
  {
   "cell_type": "code",
   "execution_count": 118,
   "metadata": {},
   "outputs": [
    {
     "data": {
      "image/png": "[encoded data removed]",
      "text/plain": [
       "<Figure size 720x288 with 1 Axes>"
      ]
     },
     "metadata": {
      "needs_background": "light"
     },
     "output_type": "display_data"
    }
   ],
   "source": [
    "bins = [0,20,40,60,80,100,120,140,160,180,200]\n",
    "plot_hist_of_bar(df, 'Area', bins, True, True)"
   ]
  },
  {
   "cell_type": "code",
   "execution_count": 119,
   "metadata": {},
   "outputs": [
    {
     "data": {
      "image/png": "[encoded data removed]",
      "text/plain": [
       "<Figure size 720x288 with 1 Axes>"
      ]
     },
     "metadata": {
      "needs_background": "light"
     },
     "output_type": "display_data"
    }
   ],
   "source": [
    "bins = [50,70,80,90,100,150,200]\n",
    "plot_hist_of_bar(df, 'TotalFloorArea', bins, True, True)"
   ]
  },
  {
   "cell_type": "code",
   "execution_count": 120,
   "metadata": {},
   "outputs": [
    {
     "data": {
      "image/png": "[encoded data removed]",
      "text/plain": [
       "<Figure size 720x288 with 1 Axes>"
      ]
     },
     "metadata": {
      "needs_background": "light"
     },
     "output_type": "display_data"
    }
   ],
   "source": [
    "bins = [i*2 for i in range(5)]\n",
    "# print(df.Breadth.unique())\n",
    "plot_hist_of_bar(df, 'Breadth', bins, True, True)"
   ]
  },
  {
   "cell_type": "code",
   "execution_count": 121,
   "metadata": {},
   "outputs": [
    {
     "name": "stdout",
     "output_type": "stream",
     "text": [
      "[60. 80. 50. nan 40. 30.]\n"
     ]
    },
    {
     "data": {
      "image/png": "[encoded data removed]",
      "text/plain": [
       "<Figure size 720x288 with 1 Axes>"
      ]
     },
     "metadata": {
      "needs_background": "light"
     },
     "output_type": "display_data"
    }
   ],
   "source": [
    "bins = [i for i in [0,30,40,50,60,80]]\n",
    "print(df.CoverageRatio.unique())\n",
    "plot_hist_of_bar(df, 'CoverageRatio', bins, True, True)"
   ]
  },
  {
   "cell_type": "code",
   "execution_count": 122,
   "metadata": {},
   "outputs": [
    {
     "name": "stdout",
     "output_type": "stream",
     "text": [
      "[200. 300. 400.  nan  80. 100. 150. 600. 500. 800. 700.  60.  50.]\n"
     ]
    },
    {
     "data": {
      "image/png": "[encoded data removed]",
      "text/plain": [
       "<Figure size 720x288 with 1 Axes>"
      ]
     },
     "metadata": {
      "needs_background": "light"
     },
     "output_type": "display_data"
    }
   ],
   "source": [
    "bins = [i*10 for i in [0,10,15,20,30,40]]\n",
    "print(df.FloorAreaRatio.unique())\n",
    "plot_hist_of_bar(df, 'FloorAreaRatio', bins, True, True)"
   ]
  },
  {
   "cell_type": "code",
   "execution_count": 123,
   "metadata": {},
   "outputs": [
    {
     "data": {
      "image/png": "[encoded data removed]",
      "text/plain": [
       "<Figure size 720x288 with 1 Axes>"
      ]
     },
     "metadata": {
      "needs_background": "light"
     },
     "output_type": "display_data"
    }
   ],
   "source": [
    "bins = [-2]+[i*5 for i in range(11)]\n",
    "plot_hist_of_bar(df, 'AgeAtTrade', bins, True, True)"
   ]
  },
  {
   "cell_type": "code",
   "execution_count": 87,
   "metadata": {},
   "outputs": [
    {
     "data": {
      "text/plain": [
       "15169"
      ]
     },
     "execution_count": 87,
     "metadata": {},
     "output_type": "execute_result"
    }
   ],
   "source": [
    "df.Classified_Breadth.isna().sum()"
   ]
  },
  {
   "cell_type": "code",
   "execution_count": 2,
   "metadata": {},
   "outputs": [
    {
     "name": "stdout",
     "output_type": "stream",
     "text": [
      "TradePrice [0, 1000, 2000, 3000, 4000, 5000, 6000, 7000, 8000, 9000, 10000]\n",
      "Area [0, 20, 40, 60, 80, 100, 120, 140, 160, 180, 200]\n",
      "TotalFloorArea [50, 70, 80, 90, 100, 150, 200]\n",
      "Breadth [0, 2, 4, 6, 8]\n",
      "CoverageRatio [0, 30, 40, 50, 60, 80]\n",
      "FloorAreaRatio [0, 100, 150, 200, 300, 400]\n",
      "AgeAtTrade [-2, 0, 5, 10, 15, 20, 25, 30, 35, 40, 45, 50]\n"
     ]
    }
   ],
   "source": [
    "addClassOfNonCategoryDataDic ={\n",
    "    'TradePrice':[i*1000 for i in range(11)],\n",
    "    'Area': [0,20,40,60,80,100,120,140,160,180,200],\n",
    "    'TotalFloorArea':[50,70,80,90,100,150,200],\n",
    "    'Breadth': [i*2 for i in range(5)],\n",
    "    'CoverageRatio':[i for i in [0,30,40,50,60,80]],\n",
    "    'FloorAreaRatio': [i*10 for i in [0,10,15,20,30,40]],\n",
    "    'AgeAtTrade':  [-2]+[i*5 for i in range(11)]\n",
    "}\n",
    "for key, values in addClassOfNonCategoryDataDic.items():\n",
    "    print(key, values)\n"
   ]
  },
  {
   "cell_type": "code",
   "execution_count": 6,
   "metadata": {},
   "outputs": [
    {
     "data": {
      "text/plain": [
       "Index(['Type', 'Region', 'MunicipalityCode', 'Prefecture', 'Municipality',\n",
       "       'DistrictName', 'TradePrice', 'Area', 'UnitPrice', 'LandShape',\n",
       "       'Frontage', 'Purpose', 'Breadth', 'CityPlanning', 'CoverageRatio',\n",
       "       'FloorAreaRatio', 'Period', 'TotalFloorArea', 'BuildingYear',\n",
       "       'Structure', 'FloorPlan', 'Renovation', 'Use', 'Remarks',\n",
       "       'Frontage_over_flag', 'Area_over_flag', 'TotalFloorArea_over_flag',\n",
       "       'TotalFloorArea_under_flag', 'BuildingYearW', 'TradeYear',\n",
       "       'TradeQuarter', 'AgeAtTrade'],\n",
       "      dtype='object')"
      ]
     },
     "execution_count": 6,
     "metadata": {},
     "output_type": "execute_result"
    }
   ],
   "source": [
    "df.columns"
   ]
  },
  {
   "cell_type": "code",
   "execution_count": 8,
   "metadata": {},
   "outputs": [
    {
     "data": {
      "text/html": [
       "<div>\n",
       "<style scoped>\n",
       "    .dataframe tbody tr th:only-of-type {\n",
       "        vertical-align: middle;\n",
       "    }\n",
       "\n",
       "    .dataframe tbody tr th {\n",
       "        vertical-align: top;\n",
       "    }\n",
       "\n",
       "    .dataframe thead th {\n",
       "        text-align: right;\n",
       "    }\n",
       "</style>\n",
       "<table border=\"1\" class=\"dataframe\">\n",
       "  <thead>\n",
       "    <tr style=\"text-align: right;\">\n",
       "      <th></th>\n",
       "      <th>BuildingYear</th>\n",
       "      <th>BuildingYearW</th>\n",
       "    </tr>\n",
       "  </thead>\n",
       "  <tbody>\n",
       "    <tr>\n",
       "      <th>0</th>\n",
       "      <td>平成29年</td>\n",
       "      <td>2017.0</td>\n",
       "    </tr>\n",
       "    <tr>\n",
       "      <th>1</th>\n",
       "      <td>昭和58年</td>\n",
       "      <td>1983.0</td>\n",
       "    </tr>\n",
       "    <tr>\n",
       "      <th>2</th>\n",
       "      <td>昭和58年</td>\n",
       "      <td>1983.0</td>\n",
       "    </tr>\n",
       "    <tr>\n",
       "      <th>3</th>\n",
       "      <td>昭和58年</td>\n",
       "      <td>1983.0</td>\n",
       "    </tr>\n",
       "    <tr>\n",
       "      <th>4</th>\n",
       "      <td>昭和58年</td>\n",
       "      <td>1983.0</td>\n",
       "    </tr>\n",
       "    <tr>\n",
       "      <th>...</th>\n",
       "      <td>...</td>\n",
       "      <td>...</td>\n",
       "    </tr>\n",
       "    <tr>\n",
       "      <th>29543</th>\n",
       "      <td>昭和44年</td>\n",
       "      <td>1969.0</td>\n",
       "    </tr>\n",
       "    <tr>\n",
       "      <th>29544</th>\n",
       "      <td>昭和63年</td>\n",
       "      <td>1988.0</td>\n",
       "    </tr>\n",
       "    <tr>\n",
       "      <th>29545</th>\n",
       "      <td>平成15年</td>\n",
       "      <td>2003.0</td>\n",
       "    </tr>\n",
       "    <tr>\n",
       "      <th>29546</th>\n",
       "      <td>平成2年</td>\n",
       "      <td>1990.0</td>\n",
       "    </tr>\n",
       "    <tr>\n",
       "      <th>29547</th>\n",
       "      <td>平成4年</td>\n",
       "      <td>1992.0</td>\n",
       "    </tr>\n",
       "  </tbody>\n",
       "</table>\n",
       "<p>29548 rows × 2 columns</p>\n",
       "</div>"
      ],
      "text/plain": [
       "      BuildingYear  BuildingYearW\n",
       "0            平成29年         2017.0\n",
       "1            昭和58年         1983.0\n",
       "2            昭和58年         1983.0\n",
       "3            昭和58年         1983.0\n",
       "4            昭和58年         1983.0\n",
       "...            ...            ...\n",
       "29543        昭和44年         1969.0\n",
       "29544        昭和63年         1988.0\n",
       "29545        平成15年         2003.0\n",
       "29546         平成2年         1990.0\n",
       "29547         平成4年         1992.0\n",
       "\n",
       "[29548 rows x 2 columns]"
      ]
     },
     "execution_count": 8,
     "metadata": {},
     "output_type": "execute_result"
    }
   ],
   "source": [
    "df.loc[:,['BuildingYear', 'BuildingYearW']]"
   ]
  },
  {
   "cell_type": "code",
   "execution_count": null,
   "metadata": {},
   "outputs": [],
   "source": []
  }
 ],
 "metadata": {
  "kernelspec": {
   "display_name": "Python 3",
   "language": "python",
   "name": "python3"
  },
  "language_info": {
   "codemirror_mode": {
    "name": "ipython",
    "version": 3
   },
   "file_extension": ".py",
   "mimetype": "text/x-python",
   "name": "python",
   "nbconvert_exporter": "python",
   "pygments_lexer": "ipython3",
   "version": "3.9.17"
  },
  "orig_nbformat": 4
 },
 "nbformat": 4,
 "nbformat_minor": 2
}
