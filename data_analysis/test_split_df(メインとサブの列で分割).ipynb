{
 "cells": [
  {
   "cell_type": "code",
   "execution_count": 1,
   "metadata": {},
   "outputs": [],
   "source": [
    "import pandas as pd\n",
    "import matplotlib.pyplot as plt\n",
    "import numpy as np\n",
    "import datetime as dt"
   ]
  },
  {
   "cell_type": "code",
   "execution_count": 6,
   "metadata": {},
   "outputs": [],
   "source": [
    "target_file_dir = \"../datas/\"\n",
    "target_file_name = \"real_estate_data_20211_20224_14_extract_by_cate\"\n",
    "target_file_end = \".csv\"\n",
    "df = pd.read_csv(target_file_dir + target_file_name + target_file_end)\n",
    "df['TradePrice'] = df.TradePrice/10000"
   ]
  },
  {
   "cell_type": "code",
   "execution_count": 12,
   "metadata": {},
   "outputs": [],
   "source": [
    "main_cols = [\n",
    "    'Type','Prefecture', 'Municipality', 'DistrictName',\n",
    "    'Structure', 'FloorPlan',\n",
    "    'TradePrice', 'AgeAtTrade','Area',\n",
    "    'TotalFloorArea','CoverageRatio', 'FloorAreaRatio',\n",
    "    'BuildingYearW','TradeYear', 'TradeQuarter'\n",
    "    ]"
   ]
  },
  {
   "cell_type": "code",
   "execution_count": 13,
   "metadata": {},
   "outputs": [],
   "source": [
    "df2 = df.sort_values(['Prefecture','MunicipalityCode', 'DistrictName',\n",
    "                     'BuildingYearW','TradePrice','Area']).copy()\n",
    "df2['TradeNo'] = range(len(df2))\n",
    "df2_main = df2.loc[:,['TradeNo']+main_cols]\n",
    "df2_sub =  df2.drop(main_cols, axis=1)"
   ]
  },
  {
   "cell_type": "code",
   "execution_count": 15,
   "metadata": {},
   "outputs": [
    {
     "name": "stdout",
     "output_type": "stream",
     "text": [
      "(29548, 33) (29548, 16) (29548, 18)\n"
     ]
    }
   ],
   "source": [
    "print(df2.shape, df2_main.shape, df2_sub.shape)"
   ]
  },
  {
   "cell_type": "code",
   "execution_count": null,
   "metadata": {},
   "outputs": [],
   "source": []
  }
 ],
 "metadata": {
  "kernelspec": {
   "display_name": "Python 3",
   "language": "python",
   "name": "python3"
  },
  "language_info": {
   "codemirror_mode": {
    "name": "ipython",
    "version": 3
   },
   "file_extension": ".py",
   "mimetype": "text/x-python",
   "name": "python",
   "nbconvert_exporter": "python",
   "pygments_lexer": "ipython3",
   "version": "3.9.17"
  },
  "orig_nbformat": 4
 },
 "nbformat": 4,
 "nbformat_minor": 2
}
