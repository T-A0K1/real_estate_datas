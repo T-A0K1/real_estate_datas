{
 "cells": [
  {
   "cell_type": "code",
   "execution_count": 1,
   "metadata": {},
   "outputs": [],
   "source": [
    "import pandas as pd\n",
    "import matplotlib.pyplot as plt\n",
    "import numpy as np\n",
    "import datetime as dt"
   ]
  },
  {
   "cell_type": "code",
   "execution_count": 15,
   "metadata": {},
   "outputs": [],
   "source": [
    "target_file_dir = \"../../datas/\"\n",
    "target_file_names = [\n",
    "    # \"RealEstateData_20111_20154_13_14_main\",\n",
    "    # \"RealEstateData_20161_20194_13_14_main\",\n",
    "    # \"RealEstateData_20201_20234_13_14_main\",\n",
    "    # \"RealEstateData_20111_20234_27_35_40_main\",\n",
    "    \"RealEstateData_20111_20234_01_08_28_main\",\n",
    "]\n",
    "target_file_end = \".csv\"\n",
    "df_origin = pd.DataFrame()\n",
    "for file_name in target_file_names:\n",
    "    df = pd.read_csv(target_file_dir + file_name + target_file_end)\n",
    "    df_origin = pd.concat([df_origin, df], axis=0)"
   ]
  },
  {
   "cell_type": "code",
   "execution_count": 6,
   "metadata": {},
   "outputs": [
    {
     "data": {
      "text/plain": [
       "TradeNo             int64\n",
       "Type               object\n",
       "Prefecture         object\n",
       "Municipality       object\n",
       "DistrictName       object\n",
       "Structure          object\n",
       "FloorPlan          object\n",
       "TradePrice        float64\n",
       "AgeAtTrade        float64\n",
       "Area                int64\n",
       "TotalFloorArea    float64\n",
       "CoverageRatio     float64\n",
       "FloorAreaRatio    float64\n",
       "BuildingYearW     float64\n",
       "TradeYear           int64\n",
       "TradeQuarter        int64\n",
       "dtype: object"
      ]
     },
     "execution_count": 6,
     "metadata": {},
     "output_type": "execute_result"
    }
   ],
   "source": [
    "df_origin.dtypes"
   ]
  },
  {
   "cell_type": "code",
   "execution_count": 25,
   "metadata": {},
   "outputs": [
    {
     "data": {
      "text/html": [
       "<div>\n",
       "<style scoped>\n",
       "    .dataframe tbody tr th:only-of-type {\n",
       "        vertical-align: middle;\n",
       "    }\n",
       "\n",
       "    .dataframe tbody tr th {\n",
       "        vertical-align: top;\n",
       "    }\n",
       "\n",
       "    .dataframe thead th {\n",
       "        text-align: right;\n",
       "    }\n",
       "</style>\n",
       "<table border=\"1\" class=\"dataframe\">\n",
       "  <thead>\n",
       "    <tr style=\"text-align: right;\">\n",
       "      <th></th>\n",
       "      <th>TradePrice</th>\n",
       "    </tr>\n",
       "    <tr>\n",
       "      <th>Municipality</th>\n",
       "      <th></th>\n",
       "    </tr>\n",
       "  </thead>\n",
       "  <tbody>\n",
       "    <tr>\n",
       "      <th>紋別郡西興部村</th>\n",
       "      <td>1</td>\n",
       "    </tr>\n",
       "    <tr>\n",
       "      <th>古宇郡泊村</th>\n",
       "      <td>2</td>\n",
       "    </tr>\n",
       "    <tr>\n",
       "      <th>利尻郡利尻富士町</th>\n",
       "      <td>2</td>\n",
       "    </tr>\n",
       "    <tr>\n",
       "      <th>中川郡音威子府村</th>\n",
       "      <td>2</td>\n",
       "    </tr>\n",
       "    <tr>\n",
       "      <th>礼文郡礼文町</th>\n",
       "      <td>3</td>\n",
       "    </tr>\n",
       "    <tr>\n",
       "      <th>...</th>\n",
       "      <td>...</td>\n",
       "    </tr>\n",
       "    <tr>\n",
       "      <th>札幌市西区</th>\n",
       "      <td>3923</td>\n",
       "    </tr>\n",
       "    <tr>\n",
       "      <th>札幌市豊平区</th>\n",
       "      <td>4529</td>\n",
       "    </tr>\n",
       "    <tr>\n",
       "      <th>旭川市</th>\n",
       "      <td>4595</td>\n",
       "    </tr>\n",
       "    <tr>\n",
       "      <th>札幌市北区</th>\n",
       "      <td>5353</td>\n",
       "    </tr>\n",
       "    <tr>\n",
       "      <th>札幌市中央区</th>\n",
       "      <td>6541</td>\n",
       "    </tr>\n",
       "  </tbody>\n",
       "</table>\n",
       "<p>188 rows × 1 columns</p>\n",
       "</div>"
      ],
      "text/plain": [
       "              TradePrice\n",
       "Municipality            \n",
       "紋別郡西興部村                1\n",
       "古宇郡泊村                  2\n",
       "利尻郡利尻富士町               2\n",
       "中川郡音威子府村               2\n",
       "礼文郡礼文町                 3\n",
       "...                  ...\n",
       "札幌市西区               3923\n",
       "札幌市豊平区              4529\n",
       "旭川市                 4595\n",
       "札幌市北区               5353\n",
       "札幌市中央区              6541\n",
       "\n",
       "[188 rows x 1 columns]"
      ]
     },
     "execution_count": 25,
     "metadata": {},
     "output_type": "execute_result"
    }
   ],
   "source": [
    "df_origin.query(\"Prefecture=='北海道'\").pivot_table(index='Municipality', aggfunc='count', values='TradePrice').sort_values('TradePrice')"
   ]
  },
  {
   "cell_type": "code",
   "execution_count": null,
   "metadata": {},
   "outputs": [],
   "source": []
  }
 ],
 "metadata": {
  "kernelspec": {
   "display_name": "Python 3",
   "language": "python",
   "name": "python3"
  },
  "language_info": {
   "codemirror_mode": {
    "name": "ipython",
    "version": 3
   },
   "file_extension": ".py",
   "mimetype": "text/x-python",
   "name": "python",
   "nbconvert_exporter": "python",
   "pygments_lexer": "ipython3",
   "version": "3.9.13"
  },
  "orig_nbformat": 4
 },
 "nbformat": 4,
 "nbformat_minor": 2
}
