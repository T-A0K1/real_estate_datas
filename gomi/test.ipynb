{
 "cells": [
  {
   "cell_type": "code",
   "execution_count": 166,
   "metadata": {},
   "outputs": [],
   "source": [
    "import requests\n",
    "import pandas as pd\n",
    "\n",
    "url = \"https://www.land.mlit.go.jp/webland/api/TradeListSearch\"\n",
    "parameters = {\n",
    "    \"from\": \"20221\",\n",
    "    \"to\": \"20224\",\n",
    "    \"area\": \"01\"\n",
    "}\n",
    "\n",
    "response = requests.get(url, params=parameters)\n",
    "\n",
    "if response.status_code == 200:\n",
    "    data = response.json()  # JSON形式のデータを取得\n",
    "    df = pd.DataFrame(data['data'])\n",
    "else:\n",
    "    print(\"Request was not successful. Status code:\", response.status_code)\n"
   ]
  },
  {
   "cell_type": "code",
   "execution_count": 175,
   "metadata": {},
   "outputs": [],
   "source": [
    "def RemoveM2(df_, needRemoveVal:dict):\n",
    "    # target_wordの文字を含むデータのtarget_wordを除去\n",
    "    # 新規列を追加し、除去した行はフラグを立てる\n",
    "    for col, target_word in needRemoveVal.items():\n",
    "        new_col = col+'_over_flag'\n",
    "        target_row = df_.loc[:, col].str.contains(target_word).fillna(False)\n",
    "        # print(col, target_word, sum(target_row))\n",
    "        df_[new_col] = 0\n",
    "        df_.loc[target_row, new_col] = 1\n",
    "        df_[col] = df_.loc[:,col].str.replace(target_word,'')\n",
    "        \n",
    "    return df_\n",
    "\n",
    "def changeDataType(df_,changeDataTypeVal:dict):\n",
    "    for col,new_data_type in changeDataTypeVal.items():\n",
    "        # print(col,new_data_type)\n",
    "        df_[col] = df_.loc[:,col].astype(new_data_type)\n",
    "    return df_\n",
    "\n",
    "def ExtractRow(df_, extractCondionDic):\n",
    "    for col, targetValue in extractCondionDic.items():\n",
    "        target_row = df_[col].isin(targetValue)\n",
    "        df_ = df_[target_row]\n",
    "    return df_"
   ]
  },
  {
   "cell_type": "code",
   "execution_count": 177,
   "metadata": {},
   "outputs": [
    {
     "name": "stdout",
     "output_type": "stream",
     "text": [
      "(15187, 26)\n"
     ]
    },
    {
     "data": {
      "text/plain": [
       "(12861, 26)"
      ]
     },
     "execution_count": 177,
     "metadata": {},
     "output_type": "execute_result"
    }
   ],
   "source": [
    "drop_cols = ['PricePerUnit', 'Purpose', 'Direction', 'Classification']\n",
    "\n",
    "# val: m2が含まれる値を、何に置換するか\n",
    "needRemoveVal = {\n",
    "    'Frontage': 'm以上', \n",
    "    'Area': '㎡以上',\n",
    "    'TotalFloorArea':'㎡以上'\n",
    "}\n",
    "changeDataTypeVal = {\n",
    "    'TradePrice':'int',\n",
    "    'Frontage':'float',\n",
    "    'Area':'int',\n",
    "    'UnitPrice':'float',\n",
    "    'TotalFloorArea':'float',\n",
    "    'Breadth':'float',\n",
    "    'CoverageRatio':'float',\n",
    "    'FloorAreaRatio':'float'\n",
    "}\n",
    "extractCondionDic = {\n",
    "    'Type':['宅地(土地と建物)', '中古マンション等', '宅地(土地)'],\n",
    "    }\n",
    "\n",
    "df2 = df.drop(drop_cols, axis=1)\n",
    "df2 = RemoveM2(df2, needRemoveVal)\n",
    "df2 = changeDataType(df2, changeDataTypeVal)\n",
    "print(df2.shape)\n",
    "df2 = ExtractRow(df2, extractCondionDic)\n",
    "df2.shape\n",
    "# df2.dtypes"
   ]
  },
  {
   "cell_type": "code",
   "execution_count": 165,
   "metadata": {},
   "outputs": [
    {
     "data": {
      "text/plain": [
       "(15187, 26)"
      ]
     },
     "execution_count": 165,
     "metadata": {},
     "output_type": "execute_result"
    }
   ],
   "source": [
    "df2.shape"
   ]
  },
  {
   "cell_type": "code",
   "execution_count": null,
   "metadata": {},
   "outputs": [],
   "source": []
  },
  {
   "cell_type": "code",
   "execution_count": 76,
   "metadata": {},
   "outputs": [
    {
     "name": "stdout",
     "output_type": "stream",
     "text": [
      "int不可\n",
      "float不可\n"
     ]
    },
    {
     "data": {
      "text/plain": [
       "array(['300', nan, '1700', '1800', '470', '990', '125', '230', '95',\n",
       "       '600', '2000㎡以上', '240', '580', '120', '190', '370', '260', '130',\n",
       "       '550', '185', '195', '90', '140', '80', '170', '290', '250', '155',\n",
       "       '105', '730', '610', '280', '145', '210', '1100', '980', '115',\n",
       "       '560', '320', '1000', '180', '830', '65', '680', '640', '840',\n",
       "       '490', '420', '380', '740', '430', '220', '390', '1500', '45',\n",
       "       '135', '630', '450', '920', '110', '1300', '710', '500', '85',\n",
       "       '650', '340', '1200', '900', '530', '160', '175', '200', '810',\n",
       "       '150', '100', '690', '1900', '660', '780', '930', '870', '410',\n",
       "       '165', '440', '890', '330', '700', '520', '570', '720', '460',\n",
       "       '350', '1400', '75', '70', '55', '360', '310', '880', '820', '670',\n",
       "       '480', '400', '910', '590', '760', '750', '950', '60', '960',\n",
       "       '790', '270', '850', '510', '540', '620', '25', '770', '20', '860',\n",
       "       '35', '1600', '30', '40', '800', '50', '10', '940'], dtype=object)"
      ]
     },
     "execution_count": 76,
     "metadata": {},
     "output_type": "execute_result"
    }
   ],
   "source": [
    "target_col = 'TotalFloorArea'\n",
    "i = 0\n",
    "try:\n",
    "    df.loc[:,target_col].astype('int')\n",
    "    print('intOK')\n",
    "    i = 1\n",
    "except:\n",
    "    print('int不可')\n",
    "    \n",
    "if i == 0:\n",
    "    try:\n",
    "        df.loc[:,target_col].astype('float')\n",
    "        print('floatOK')\n",
    "    except:\n",
    "        print('float不可')\n",
    "df.loc[:,target_col].unique()"
   ]
  },
  {
   "cell_type": "code",
   "execution_count": null,
   "metadata": {},
   "outputs": [],
   "source": []
  },
  {
   "cell_type": "code",
   "execution_count": 70,
   "metadata": {},
   "outputs": [
    {
     "data": {
      "text/plain": [
       "0        NaN\n",
       "1        NaN\n",
       "2        NaN\n",
       "3        NaN\n",
       "4        NaN\n",
       "        ... \n",
       "15182    NaN\n",
       "15183    NaN\n",
       "15184    NaN\n",
       "15185    NaN\n",
       "15186    NaN\n",
       "Name: Remarks, Length: 15187, dtype: object"
      ]
     },
     "execution_count": 70,
     "metadata": {},
     "output_type": "execute_result"
    }
   ],
   "source": [
    "df.Remarks"
   ]
  },
  {
   "cell_type": "code",
   "execution_count": 69,
   "metadata": {},
   "outputs": [
    {
     "data": {
      "text/html": [
       "<div>\n",
       "<style scoped>\n",
       "    .dataframe tbody tr th:only-of-type {\n",
       "        vertical-align: middle;\n",
       "    }\n",
       "\n",
       "    .dataframe tbody tr th {\n",
       "        vertical-align: top;\n",
       "    }\n",
       "\n",
       "    .dataframe thead th {\n",
       "        text-align: right;\n",
       "    }\n",
       "</style>\n",
       "<table border=\"1\" class=\"dataframe\">\n",
       "  <thead>\n",
       "    <tr style=\"text-align: right;\">\n",
       "      <th></th>\n",
       "      <th>Type</th>\n",
       "    </tr>\n",
       "    <tr>\n",
       "      <th>Remarks</th>\n",
       "      <th></th>\n",
       "    </tr>\n",
       "  </thead>\n",
       "  <tbody>\n",
       "    <tr>\n",
       "      <th>調停・競売等</th>\n",
       "      <td>68</td>\n",
       "    </tr>\n",
       "    <tr>\n",
       "      <th>私道を含む取引</th>\n",
       "      <td>53</td>\n",
       "    </tr>\n",
       "    <tr>\n",
       "      <th>隣地の購入</th>\n",
       "      <td>44</td>\n",
       "    </tr>\n",
       "    <tr>\n",
       "      <th>関係者間取引</th>\n",
       "      <td>35</td>\n",
       "    </tr>\n",
       "    <tr>\n",
       "      <th>古屋付き・取壊し前提</th>\n",
       "      <td>3</td>\n",
       "    </tr>\n",
       "  </tbody>\n",
       "</table>\n",
       "</div>"
      ],
      "text/plain": [
       "            Type\n",
       "Remarks         \n",
       "調停・競売等        68\n",
       "私道を含む取引       53\n",
       "隣地の購入         44\n",
       "関係者間取引        35\n",
       "古屋付き・取壊し前提     3"
      ]
     },
     "execution_count": 69,
     "metadata": {},
     "output_type": "execute_result"
    }
   ],
   "source": [
    "df.pivot_table(index='Remarks', values='Type',aggfunc='count').sort_values('Type', ascending=False)"
   ]
  },
  {
   "cell_type": "code",
   "execution_count": null,
   "metadata": {},
   "outputs": [],
   "source": []
  }
 ],
 "metadata": {
  "kernelspec": {
   "display_name": "Python 3",
   "language": "python",
   "name": "python3"
  },
  "language_info": {
   "codemirror_mode": {
    "name": "ipython",
    "version": 3
   },
   "file_extension": ".py",
   "mimetype": "text/x-python",
   "name": "python",
   "nbconvert_exporter": "python",
   "pygments_lexer": "ipython3",
   "version": "3.9.17"
  },
  "orig_nbformat": 4
 },
 "nbformat": 4,
 "nbformat_minor": 2
}
